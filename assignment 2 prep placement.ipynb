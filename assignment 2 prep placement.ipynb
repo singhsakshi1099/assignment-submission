{
  "nbformat": 4,
  "nbformat_minor": 0,
  "metadata": {
    "colab": {
      "provenance": []
    },
    "kernelspec": {
      "name": "python3",
      "display_name": "Python 3"
    },
    "language_info": {
      "name": "python"
    }
  },
  "cells": [
    {
      "cell_type": "code",
      "execution_count": 18,
      "metadata": {
        "id": "ywrH7_6eJ5ly"
      },
      "outputs": [],
      "source": [
        "def arrayPairSum(nums):\n",
        "    nums.sort()  # Sort the array in ascending order\n",
        "    max_sum = 0\n",
        "    \n",
        "    # Iterate through the sorted array in steps of 2\n",
        "    for i in range(0, len(nums), 2):\n",
        "        max_sum += nums[i]  # Add the smaller element to max_sum\n",
        "    \n",
        "    return max_sum\n",
        "\n",
        "\n"
      ]
    },
    {
      "cell_type": "code",
      "source": [
        "\n",
        "\n",
        "def distributeCandies(candyType):\n",
        "    unique_candy_types = len(set(candyType))  # Count the unique candy types\n",
        "    max_candy_types = min(unique_candy_types, len(candyType) // 2)\n",
        "    return max_candy_types\n",
        "\n"
      ],
      "metadata": {
        "id": "8DlgHcR5KG_s"
      },
      "execution_count": null,
      "outputs": []
    },
    {
      "cell_type": "code",
      "source": [
        "from collections import Counter\n",
        "\n",
        "def findLHS(nums):\n",
        "    counter = Counter(nums)\n",
        "    max_length = 0\n",
        "\n",
        "    for num in nums:\n",
        "        if num + 1 in counter:\n",
        "            length = counter[num] + counter[num + 1]\n",
        "            if length > max_length:\n",
        "                max_length = length\n",
        "\n",
        "    return max_length\n"
      ],
      "metadata": {
        "id": "scW_sClVKDB8"
      },
      "execution_count": null,
      "outputs": []
    },
    {
      "cell_type": "code",
      "source": [
        "def canPlaceFlowers(flowerbed, n):\n",
        "    count = 0\n",
        "    size = len(flowerbed)\n",
        "    i = 0\n",
        "\n",
        "    while i < size:\n",
        "        if flowerbed[i] == 0 and (i == 0 or flowerbed[i - 1] == 0) and (i == size - 1 or flowerbed[i + 1] == 0):\n",
        "            flowerbed[i] = 1\n",
        "            count += 1\n",
        "            if count == n:\n",
        "                return True\n",
        "        i += 1\n",
        "\n",
        "    return False\n"
      ],
      "metadata": {
        "id": "95NLtj_ZMRO8"
      },
      "execution_count": null,
      "outputs": []
    },
    {
      "cell_type": "code",
      "source": [
        "def maximumProduct(nums):\n",
        "    nums.sort()\n",
        "    n = len(nums)\n",
        "    \n",
        "    # Calculate two possible products\n",
        "    product1 = nums[n - 1] * nums[n - 2] * nums[n - 3]  # Product of three largest numbers\n",
        "    product2 = nums[0] * nums[1] * nums[n - 1]  # Product of two smallest numbers and the largest number\n",
        "    \n",
        "    return max(product1, product2)\n"
      ],
      "metadata": {
        "id": "DxGkPXU-MT-f"
      },
      "execution_count": null,
      "outputs": []
    },
    {
      "cell_type": "code",
      "source": [
        "def maximumProduct(nums):\n",
        "    nums.sort()\n",
        "    n = len(nums)\n",
        "    \n",
        "    # Calculate two possible products\n",
        "    product1 = nums[n - 1] * nums[n - 2] * nums[n - 3]  # Product of three largest numbers\n",
        "    product2 = nums[0] * nums[1] * nums[n - 1]  # Product of two smallest numbers and the largest number\n",
        "    \n",
        "    return max(product1, product2)\n"
      ],
      "metadata": {
        "id": "pyt8H84uNDdf"
      },
      "execution_count": null,
      "outputs": []
    },
    {
      "cell_type": "code",
      "source": [
        "def isMonotonic(nums):\n",
        "    isIncreasing = True\n",
        "    isDecreasing = True\n",
        "\n",
        "    for i in range(1, len(nums)):\n",
        "        if nums[i] < nums[i - 1]:\n",
        "            isIncreasing = False\n",
        "        if nums[i] > nums[i - 1]:\n",
        "            isDecreasing = False\n",
        "        if not isIncreasing and not isDecreasing:\n",
        "            return False\n",
        "\n",
        "    return True\n"
      ],
      "metadata": {
        "id": "oMmvGi3bNtZL"
      },
      "execution_count": null,
      "outputs": []
    },
    {
      "cell_type": "code",
      "source": [
        "def minimumScore(nums, k):\n",
        "    min_num = float('inf')\n",
        "    max_num = float('-inf')\n",
        "\n",
        "    for num in nums:\n",
        "        min_num = min(min_num, num)\n",
        "        max_num = max(max_num, num)\n",
        "\n",
        "    initial_score = max_num - min_num\n",
        "\n",
        "    if initial_score == 0:\n",
        "        return 0\n",
        "\n",
        "    new_score = float('inf')\n",
        "\n",
        "    for num in nums:\n",
        "        potential_min = num - k\n",
        "        potential_max = num + k\n",
        "        min_num = min(min_num, potential_min)\n",
        "        max_num = max(max_num, potential_max)\n",
        "        new_score = min(new_score, max_num - min_num)\n",
        "\n",
        "    return min(initial_score, new_score)\n"
      ],
      "metadata": {
        "id": "QMM3H3MtODMn"
      },
      "execution_count": null,
      "outputs": []
    }
  ]
}